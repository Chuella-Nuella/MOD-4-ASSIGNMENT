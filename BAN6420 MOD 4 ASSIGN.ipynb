{
 "cells": [
  {
   "cell_type": "code",
   "execution_count": null,
   "id": "36b6ddce-645f-4b90-b4c5-ce3c8ddcfe96",
   "metadata": {},
   "outputs": [],
   "source": [
    "# Import packages\n",
    "import os\n",
    "import pandas as pd\n",
    "import zipfile as zip\n",
    "import seaborn as sns\n",
    "import matplotlib.pyplot as plt\n"
   ]
  },
  {
   "cell_type": "code",
   "execution_count": null,
   "id": "8df6d332-1ae2-4d83-9699-3b71ae621510",
   "metadata": {},
   "outputs": [
    {
     "name": "stdout",
     "output_type": "stream",
     "text": [
      "{'message': '\"There is no item named \\'netflix_data.csv\\' in the archive\"'}\n"
     ]
    }
   ],
   "source": [
    "# Data Preparation\n",
    "try:\n",
    "\n",
    "    # Unzip the dataset from the zip archive\n",
    "    with zip.ZipFile(\"netflix_data.zip\", mode=\"r\") as zipper:\n",
    "        zipper.extract(member=\"netflix_data.csv\")\n",
    "         # Rename the file name    \n",
    "        os.rename(src=\"netflix_data.csv\", dst=\"Netflix_shows_movies.csv\")\n",
    "\n",
    "# Error Handling for Exception\n",
    "except Exception as e:\n",
    "    error_message = {\"message\":str(e)}\n",
    "    print(error_message)\n",
    "\n",
    "    \n",
    "   "
   ]
  },
  {
   "cell_type": "code",
   "execution_count": null,
   "id": "17bc93f7-4181-4fbf-9a91-191c772e7888",
   "metadata": {},
   "outputs": [],
   "source": []
  }
 ],
 "metadata": {
  "kernelspec": {
   "display_name": "Python 3 (ipykernel)",
   "language": "python",
   "name": "python3"
  },
  "language_info": {
   "codemirror_mode": {
    "name": "ipython",
    "version": 3
   },
   "file_extension": ".py",
   "mimetype": "text/x-python",
   "name": "python",
   "nbconvert_exporter": "python",
   "pygments_lexer": "ipython3",
   "version": "3.12.7"
  }
 },
 "nbformat": 4,
 "nbformat_minor": 5
}
